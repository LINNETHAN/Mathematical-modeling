{
 "cells": [
  {
   "cell_type": "code",
   "execution_count": null,
   "id": "7966956d",
   "metadata": {},
   "outputs": [],
   "source": [
    "import numpy as py"
   ]
  }
 ],
 "metadata": {
  "kernelspec": {
   "display_name": "MathMode",
   "language": "python",
   "name": "python3"
  },
  "language_info": {
   "name": "python",
   "version": "3.12.9"
  }
 },
 "nbformat": 4,
 "nbformat_minor": 5
}
