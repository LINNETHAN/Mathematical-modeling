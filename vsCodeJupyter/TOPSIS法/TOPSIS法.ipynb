{
 "cells": [
  {
   "cell_type": "markdown",
   "id": "436a91e1",
   "metadata": {},
   "source": [
    "# TOPSIS法\n",
    "TOPSIS法,又称优劣解距离法\n",
    "评价类类型的一种模型算法，可结合层次分析法添加权重计算\n",
    "## 层次分析法的局限性\n",
    "1. 决策层不能太多，太多则n会很大，判断矩阵和一致性矩阵的差距就会很大\n",
    "2. 决策层指标通常需要自己确定，当给定指标时，需要利用给定数据使评价更加准确\n",
    "## TOPSIS法步骤\n",
    "1. 数据处理\n",
    "2. 原始矩阵正向化\n",
    "3. 正向化矩阵标准化\n",
    "4. 计算得分并归一化"
   ]
  },
  {
   "cell_type": "markdown",
   "id": "edae61c4",
   "metadata": {},
   "source": [
    "## 数据处理"
   ]
  },
  {
   "cell_type": "code",
   "execution_count": 3,
   "id": "bd3ea623",
   "metadata": {},
   "outputs": [],
   "source": [
    "#导入所需库\n",
    "import numpy as np #矩阵计算\n",
    "import pandas as pd #数据处理"
   ]
  },
  {
   "cell_type": "code",
   "execution_count": 12,
   "id": "2d2982c7",
   "metadata": {},
   "outputs": [
    {
     "name": "stdout",
     "output_type": "stream",
     "text": [
      "   河流  含氧量（ppm)   PH值  细菌总数(个/mL)  植物性营养物量（ppm)\n",
      "0   A      4.69  6.59          51         11.94\n",
      "1   B      2.03  7.86          19          6.46\n",
      "2   C      9.11  6.31          46          8.91\n",
      "3   D      8.61  7.05          46         26.43\n",
      "4   E      7.13  6.50          50         23.57\n",
      "5   F      2.39  6.77          38         24.62\n",
      "6   G      7.69  6.79          38          6.01\n",
      "7   H      9.30  6.81          27         31.57\n",
      "8   I      5.45  7.62           5         18.46\n",
      "9   J      6.19  7.27          17          7.51\n",
      "10  K      7.93  7.53           9          6.52\n",
      "11  L      4.40  7.28          17         25.30\n",
      "12  M      7.46  8.24          23         14.42\n",
      "13  N      2.01  5.55          47         26.31\n",
      "14  O      2.04  6.40          23         17.91\n",
      "15  P      7.73  6.14          52         15.72\n",
      "16  Q      6.35  7.58          25         29.46\n",
      "17  R      8.29  8.41          39         12.02\n",
      "18  S      3.54  7.27          54          3.16\n",
      "19  T      7.44  6.26           8         28.41\n"
     ]
    }
   ],
   "source": [
    "#读取excel文件\n",
    "data = pd.read_excel('20条河流的水质情况数据.xlsx', sheet_name='Sheet1') #读取数据\n",
    "print(data) #打印原始数据,为dataframe格式"
   ]
  },
  {
   "cell_type": "markdown",
   "id": "8e2f1f6d",
   "metadata": {},
   "source": [
    "## 第一步 原始矩阵正向化(三个函数)"
   ]
  },
  {
   "cell_type": "code",
   "execution_count": 13,
   "id": "b818eb9c",
   "metadata": {},
   "outputs": [],
   "source": [
    "# 极小型转为极大型指标\n",
    "def dataDirection_1(datas):\n",
    "    numpy_array = np.array(datas)  # 将数据转换为numpy数组\n",
    "    max_value = numpy_array.max()  # 计算最大值\n",
    "    def normalization(data):\n",
    "        return max_value-data  # 使用max - x 来转换极小型指标为极大型指标 \n",
    "\n",
    "    return [normalization(data) for data in datas]#使用列表推导式来处理数据\n",
    "\n",
    "\n",
    "# 中间型指标转为极大型指标\n",
    "def dataDirection_2(datas, best):\n",
    "    numpy_array  = np.array(datas)  # 将数据转换为numpy数组\n",
    "    numpy_array = numpy_array - best  # 减去最佳值\n",
    "    numpy_array = np.abs(numpy_array)  # 取绝对值\n",
    "    M = numpy_array.max()  # 计算最大值\n",
    "    # 防止除以零的情况\n",
    "    if M == 0:\n",
    "        return [1] * len(datas)  # 如果最大值为 0，返回所有值为 1（表示所有值相等，最大值）\n",
    "    \n",
    "    def normalization(data):\n",
    "        result = 1 - (abs(data - best) / M)  # 计算极大型指标\n",
    "        return result if result >= 0 else 0\n",
    "    # 处理数据，避免负值\n",
    "\n",
    "    return [normalization(data) for data in datas]\n",
    "\n",
    "\n",
    "# 区间型指标转为极大型指标\n",
    "def dataDirection_3(datas,x_min,x_max):\n",
    "    numpy_array = np.array(datas)  # 将数据转换为numpy数组\n",
    "    M = max(x_min-numpy_array.max(),numpy_array.max()-x_max) #计算M(详见笔记)\n",
    "    def normalization(data):\n",
    "        if data < x_min:\n",
    "            return 1 - (x_min - data) / M\n",
    "        elif data > x_max:\n",
    "            return 1 - (data - x_max) / M\n",
    "        else:\n",
    "            return 1\n",
    "\n",
    "    return [normalization(data) for data in datas]"
   ]
  },
  {
   "cell_type": "code",
   "execution_count": 28,
   "id": "af806202",
   "metadata": {},
   "outputs": [
    {
     "name": "stdout",
     "output_type": "stream",
     "text": [
      "[[4.69000e+00 7.17241e-01 3.00000e+00 1.00000e+00]\n",
      " [2.03000e+00 4.06897e-01 3.50000e+01 6.94036e-01]\n",
      " [9.11000e+00 5.24138e-01 8.00000e+00 9.05791e-01]\n",
      " [8.61000e+00 9.65517e-01 8.00000e+00 4.44252e-01]\n",
      " [7.13000e+00 6.55172e-01 4.00000e+00 6.91443e-01]\n",
      " [2.39000e+00 8.41379e-01 1.60000e+01 6.00691e-01]\n",
      " [7.69000e+00 8.55172e-01 1.60000e+01 6.55143e-01]\n",
      " [9.30000e+00 8.68966e-01 2.70000e+01 0.00000e+00]\n",
      " [5.45000e+00 5.72414e-01 4.90000e+01 1.00000e+00]\n",
      " [6.19000e+00 8.13793e-01 3.70000e+01 7.84788e-01]\n",
      " [7.93000e+00 6.34483e-01 4.50000e+01 6.99222e-01]\n",
      " [4.40000e+00 8.06897e-01 3.70000e+01 5.41919e-01]\n",
      " [7.46000e+00 1.44828e-01 3.10000e+01 1.00000e+00]\n",
      " [2.01000e+00 0.00000e+00 7.00000e+00 4.54624e-01]\n",
      " [2.04000e+00 5.86207e-01 3.10000e+01 1.00000e+00]\n",
      " [7.73000e+00 4.06897e-01 2.00000e+00 1.00000e+00]\n",
      " [6.35000e+00 6.00000e-01 2.90000e+01 1.82368e-01]\n",
      " [8.29000e+00 2.75860e-02 1.50000e+01 1.00000e+00]\n",
      " [3.54000e+00 8.13793e-01 0.00000e+00 4.08816e-01]\n",
      " [7.44000e+00 4.89655e-01 4.60000e+01 2.73120e-01]]\n"
     ]
    }
   ],
   "source": [
    "#例题数据处理\n",
    "#对于本例题，PH值 细菌总数(个/mL) 植物性营养物量（ppm)\n",
    "#三列需要进行正向化处理，分别为中间型(best = 7)，极小型和区间型指标(10-20)\n",
    "\n",
    "#中间型指标(PH值)转为极大型指标\n",
    "ph_list = dataDirection_2(data.loc[:,\"PH值\"], 7)\n",
    "ph_array = np.array(ph_list)\n",
    "ph_4f = np.round(ph_array, 6)\n",
    "#print(\"PH值的极大型指标为：\",hanyang_4f)\n",
    "\n",
    "#极小型型指标(细菌总数)转为极大型指标\n",
    "xijun_list = dataDirection_1(data.loc[:,\"细菌总数(个/mL)\"])\n",
    "xijun_array = np.array(xijun_list)\n",
    "xijun_4f = np.round(xijun_array, 6)\n",
    "#print(\"细菌总数(个/mL)的极大型指标为：\",xijun_4f)\n",
    "\n",
    "#区间型指标(植物性营养物量)转为极大型指标\n",
    "yingyangwu_list = dataDirection_3(data.loc[:,\"植物性营养物量（ppm)\"], 10, 20)\n",
    "yingyangwu_array = np.array(yingyangwu_list)\n",
    "yingyangwu_4f = np.round(yingyangwu_array, 6)\n",
    "#print(\"植物性营养物量（ppm)的极大型指标为：\",yingyangwu_4f)\n",
    "\n",
    "# 使用 column_stack 拼接为二维矩阵\n",
    "hanyang_array = np.array(data.loc[:,\"含氧量（ppm)\"])  # 将数据转换为numpy数组\n",
    "matrix = np.column_stack((hanyang_array,ph_4f, xijun_4f, yingyangwu_4f))\n",
    "print(matrix)\n"
   ]
  },
  {
   "cell_type": "markdown",
   "id": "fa50afd2",
   "metadata": {},
   "source": [
    "## 第二步 正向化矩阵标准化"
   ]
  },
  {
   "cell_type": "code",
   "execution_count": null,
   "id": "8a0b3068",
   "metadata": {},
   "outputs": [
    {
     "name": "stdout",
     "output_type": "stream",
     "text": [
      "标准化后的矩阵： [[0.16218592 0.24825515 0.02454403 0.30645758]\n",
      " [0.07019987 0.14083729 0.28634707 0.2126926 ]\n",
      " [0.3150349  0.18141734 0.06545076 0.27758652]\n",
      " [0.29774429 0.33418972 0.06545076 0.13614439]\n",
      " [0.24656409 0.22677151 0.03272538 0.21189795]\n",
      " [0.08264911 0.29122243 0.13090152 0.18408631]\n",
      " [0.26592957 0.29599654 0.13090152 0.20077354]\n",
      " [0.32160534 0.30077099 0.22089631 0.        ]\n",
      " [0.18846764 0.19812688 0.4008859  0.30645758]\n",
      " [0.21405774 0.28167422 0.30270976 0.24050423]\n",
      " [0.27422907 0.21961052 0.36816052 0.21428188]\n",
      " [0.15215736 0.27928735 0.30270976 0.16607519]\n",
      " [0.25797589 0.05012861 0.25362169 0.30645758]\n",
      " [0.06950825 0.         0.05726941 0.13932297]\n",
      " [0.07054569 0.20290099 0.25362169 0.30645758]\n",
      " [0.26731282 0.14083729 0.01636269 0.30645758]\n",
      " [0.21959074 0.20767509 0.237259   0.05588806]\n",
      " [0.2866783  0.00954821 0.12272017 0.30645758]\n",
      " [0.12241751 0.28167422 0.         0.12528476]\n",
      " [0.25728427 0.16948191 0.37634187 0.0836997 ]]\n"
     ]
    }
   ],
   "source": [
    "# 正向矩阵标准化函数\n",
    "def standardize_matrix(X):\n",
    "    squared = np.square(X)  # 平方\n",
    "    column_sums = np.sum(squared, axis=0) # 按列求和\n",
    "    sqrt_sums = np.sqrt(column_sums)  # 开平方\n",
    "    # 防止除以零的情况\n",
    "    sqrt_sums[sqrt_sums == 0] = 1  # 如果某列的平方和为 0，则将其设置为 1（避免除零）\n",
    "    normalized = X / sqrt_sums  # 除以平方和的平方根\n",
    "    return normalized  # 返回标准化后的矩阵\n",
    "\n",
    "# 标准化矩阵\n",
    "standardized_matrix = standardize_matrix(matrix)  # 调用标准化函数\n",
    "print(\"标准化后的矩阵：\",standardized_matrix)  # 打印标准化后的矩阵"
   ]
  },
  {
   "cell_type": "markdown",
   "id": "f50b6a66",
   "metadata": {},
   "source": [
    "## 第三步 计算得分并归一化"
   ]
  },
  {
   "cell_type": "code",
   "execution_count": 32,
   "id": "c5a1baf0",
   "metadata": {},
   "outputs": [
    {
     "name": "stdout",
     "output_type": "stream",
     "text": [
      "得分： [0.04505806 0.04779878 0.0484974  0.0488202  0.04311309 0.04483782\n",
      " 0.05394726 0.05099837 0.06807384 0.0683933  0.07016174 0.05909345\n",
      " 0.05265186 0.01919585 0.05330661 0.04335863 0.04657436 0.04384359\n",
      " 0.03580976 0.05646602]\n"
     ]
    }
   ],
   "source": [
    "#计算得分并归一化(暂时不考虑权重)\n",
    "def calculate_scores(Z):\n",
    "    # 计算每一行的平方和\n",
    "    Z_plus = np.max(Z, axis=0)#  # 计算每一列的最大值(正理想解)\n",
    "    Z_minus = np.min(Z, axis=0)  # 计算每一列的最小值(负理想解)\n",
    "\n",
    "    # 3. 计算每个方案到正/负理想解的欧式距离\n",
    "    D_plus = np.sqrt(np.sum((Z - Z_plus) ** 2, axis=1))\n",
    "    D_minus = np.sqrt(np.sum((Z - Z_minus) ** 2, axis=1))\n",
    "    # 4. 计算相对贴近度 Si\n",
    "    S = D_minus / (D_plus + D_minus)\n",
    "    S = S/ np.sum(S)  # 归一化处理\n",
    "    return S  # 返回每个方案归一化猴儿的得分\n",
    "\n",
    "# 计算得分\n",
    "scores = calculate_scores(standardized_matrix)  # 调用计算得分函数\n",
    "print(\"得分：\", scores)  # 打印正理想解"
   ]
  }
 ],
 "metadata": {
  "kernelspec": {
   "display_name": "MathMode",
   "language": "python",
   "name": "python3"
  },
  "language_info": {
   "codemirror_mode": {
    "name": "ipython",
    "version": 3
   },
   "file_extension": ".py",
   "mimetype": "text/x-python",
   "name": "python",
   "nbconvert_exporter": "python",
   "pygments_lexer": "ipython3",
   "version": "3.12.9"
  }
 },
 "nbformat": 4,
 "nbformat_minor": 5
}
